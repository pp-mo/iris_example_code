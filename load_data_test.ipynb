{
 "metadata": {
  "name": ""
 },
 "nbformat": 3,
 "nbformat_minor": 0,
 "worksheets": [
  {
   "cells": [
    {
     "cell_type": "markdown",
     "metadata": {},
     "source": [
      "Make all necessary imports"
     ]
    },
    {
     "cell_type": "code",
     "collapsed": false,
     "input": [
      "import gzip\n",
      "import shutil\n",
      "import tarfile\n",
      "import tempfile\n",
      "import os.path\n",
      "import urllib"
     ],
     "language": "python",
     "metadata": {},
     "outputs": [],
     "prompt_number": 1
    },
    {
     "cell_type": "markdown",
     "metadata": {},
     "source": [
      "Create an empty, temporary directory"
     ]
    },
    {
     "cell_type": "code",
     "collapsed": false,
     "input": [
      "tmp_dir = './regrid_tmp'\n",
      "if os.path.exists(tmp_dir):\n",
      "    shutil.rmtree(tmp_dir)\n",
      "os.mkdir(tmp_dir)\n",
      "print 'Temporary directory (empty) = ', tmp_dir"
     ],
     "language": "python",
     "metadata": {},
     "outputs": [
      {
       "output_type": "stream",
       "stream": "stdout",
       "text": [
        "Temporary directory (empty) =  ./regrid_tmp\n"
       ]
      }
     ],
     "prompt_number": 2
    },
    {
     "cell_type": "markdown",
     "metadata": {},
     "source": [
      "Download the source archive into the temporary directory"
     ]
    },
    {
     "cell_type": "code",
     "collapsed": false,
     "input": [
      "src_tar_url = 'http://www.metoffice.gov.uk/hadobs/en3/data/EN3_v2a/EN3_v2a_Profiles_1950.tar'\n",
      "download_path = os.path.join(tmp_dir, os.path.basename(src_tar_url))\n",
      "urllib.urlretrieve(src_tar_url, download_path)\n",
      "print 'Download file path = ', download_path"
     ],
     "language": "python",
     "metadata": {},
     "outputs": [
      {
       "output_type": "stream",
       "stream": "stdout",
       "text": [
        "Download file path =  ./regrid_tmp/EN3_v2a_Profiles_1950.tar\n"
       ]
      }
     ],
     "prompt_number": 3
    },
    {
     "cell_type": "markdown",
     "metadata": {},
     "source": [
      "Extract the first file from the archive (.tar)"
     ]
    },
    {
     "cell_type": "code",
     "collapsed": false,
     "input": [
      "tf = tarfile.TarFile(download_path)\n",
      "tar_member = tf.getmembers()[0]\n",
      "extracted_path = os.path.join(tmp_dir, tar_member.name)\n",
      "tar_file = tf.extractfile(tar_member)\n",
      "with open(extracted_path, 'w') as extracted_file:\n",
      "    extracted_file.write(tar_file.read())\n",
      "tar_file.close()\n",
      "print 'Extracted file path = ', extracted_path\n",
      "tf.close()"
     ],
     "language": "python",
     "metadata": {},
     "outputs": [
      {
       "output_type": "stream",
       "stream": "stdout",
       "text": [
        "Extracted file path =  ./regrid_tmp/EN3_v2a_Profiles_195001.nc.gz\n"
       ]
      }
     ],
     "prompt_number": 4
    },
    {
     "cell_type": "markdown",
     "metadata": {},
     "source": [
      "Unzip the datafile"
     ]
    },
    {
     "cell_type": "code",
     "collapsed": false,
     "input": [
      "datafile_path = '.'.join(extracted_path.split('.')[:-1])\n",
      "unzipped_data = gzip.GzipFile(extracted_path)\n",
      "with open(datafile_path, 'w') as data_file:\n",
      "    data_file.write(unzipped_data.read())\n",
      "unzipped_data.close()\n",
      "\n",
      "print\n",
      "print 'Downloaded example data.'\n",
      "print 'Data file = ', datafile_path"
     ],
     "language": "python",
     "metadata": {},
     "outputs": [
      {
       "output_type": "stream",
       "stream": "stdout",
       "text": [
        "\n",
        "Downloaded example data.\n",
        "Data file =  ./regrid_tmp/EN3_v2a_Profiles_195001.nc\n"
       ]
      }
     ],
     "prompt_number": 5
    },
    {
     "cell_type": "code",
     "collapsed": false,
     "input": [],
     "language": "python",
     "metadata": {},
     "outputs": []
    }
   ],
   "metadata": {}
  }
 ]
}